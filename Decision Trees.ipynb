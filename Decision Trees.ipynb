{
 "cells": [
  {
   "attachments": {},
   "cell_type": "markdown",
   "metadata": {
    "nbgrader": {
     "grade": false,
     "grade_id": "cell-6bd0516e7cb654f5",
     "locked": true,
     "schema_version": 1,
     "solution": false
    }
   },
   "source": [
    "# Decision Trees\n",
    "\n",
    "## What I did in this notebook:\n",
    "1. Practiced OOP in python.\n",
    "2. Implemented two impurity measures: Gini and Entropy.\n",
    "3. Constructed a decision tree algorithm.\n",
    "4. Pruned the tree to achieve better results.\n",
    "5. Visualized my results."
   ]
  },
  {
   "cell_type": "code",
   "execution_count": 1,
   "metadata": {
    "nbgrader": {
     "grade": false,
     "grade_id": "cell-ed9fe7b1026e33cb",
     "locked": true,
     "schema_version": 1,
     "solution": false
    }
   },
   "outputs": [],
   "source": [
    "import numpy as np\n",
    "import pandas as pd\n",
    "import matplotlib.pyplot as plt\n",
    "\n",
    "# make matplotlib figures appear inline in the notebook\n",
    "%matplotlib inline\n",
    "plt.rcParams['figure.figsize'] = (10.0, 8.0) # set default size of plots\n",
    "plt.rcParams['image.interpolation'] = 'nearest'\n",
    "plt.rcParams['image.cmap'] = 'gray'\n",
    "\n",
    "# Ignore warnings\n",
    "import warnings\n",
    "warnings.filterwarnings('ignore')"
   ]
  },
  {
   "attachments": {},
   "cell_type": "markdown",
   "metadata": {
    "nbgrader": {
     "grade": false,
     "grade_id": "cell-c6ac605270c2b091",
     "locked": true,
     "schema_version": 1,
     "solution": false
    }
   },
   "source": [
    "## Warmup - OOP in python\n",
    "\n",
    "Our desicion tree will be implemented using a dedicated python class.\n",
    "\n",
    "\n",
    "You can use the following [site](https://jeffknupp.com/blog/2014/06/18/improve-your-python-python-classes-and-object-oriented-programming/) to learn about classes in python."
   ]
  },
  {
   "cell_type": "code",
   "execution_count": 2,
   "metadata": {},
   "outputs": [],
   "source": [
    "class Node(object):\n",
    "    def __init__(self, data):\n",
    "        self.data = data\n",
    "        self.children = []\n",
    "\n",
    "    def add_child(self, node):\n",
    "        self.children.append(node)"
   ]
  },
  {
   "cell_type": "code",
   "execution_count": 3,
   "metadata": {},
   "outputs": [
    {
     "data": {
      "text/plain": [
       "[<__main__.Node at 0x2295db33370>, <__main__.Node at 0x2295db338b0>]"
      ]
     },
     "execution_count": 3,
     "metadata": {},
     "output_type": "execute_result"
    }
   ],
   "source": [
    "n = Node(5)\n",
    "p = Node(6)\n",
    "q = Node(7)\n",
    "n.add_child(p)\n",
    "n.add_child(q)\n",
    "n.children"
   ]
  },
  {
   "attachments": {},
   "cell_type": "markdown",
   "metadata": {
    "nbgrader": {
     "grade": false,
     "grade_id": "cell-2f1ceb251c649b62",
     "locked": true,
     "schema_version": 1,
     "solution": false
    }
   },
   "source": [
    "## Data preprocessing\n",
    "\n",
    "For the following notebook, we will use a dataset containing mushroom data `agaricus-lepiota.csv`. \n",
    "\n",
    "This data set includes descriptions of hypothetical samples corresponding to 23 species of gilled mushrooms in the Agaricus and Lepiota Family. Each species is identified as definitely edible, definitely poisonous, or of unknown edibility and not recommended. This latter class was combined with the poisonous\n",
    "one (=there are only two classes **edible** and **poisonous**). \n",
    "    \n",
    "The dataset contains 8124 observations with 22 features:\n",
    "1. cap-shape: bell=b,conical=c,convex=x,flat=f,knobbed=k,sunken=s\n",
    "2. cap-surface: fibrous=f,grooves=g,scaly=y,smooth=s\n",
    "3. cap-color: brown=n,buff=b,cinnamon=c,gray=g,green=r,pink=p,purple=u,red=e,white=w,yellow=y\n",
    "4. bruises: bruises=t,no=f\n",
    "5. odor: almond=a,anise=l,creosote=c,fishy=y,foul=f, musty=m,none=n,pungent=p,spicy=s\n",
    "6. gill-attachment: attached=a,descending=d,free=f,notched=n\n",
    "7. gill-spacing: close=c,crowded=w,distant=d\n",
    "8. gill-size: broad=b,narrow=n\n",
    "9. gill-color: black=k,brown=n,buff=b,chocolate=h,gray=g,green=r,orange=o,pink=p,purple=u,red=e,white=w,yellow=y\n",
    "10. stalk-shape: enlarging=e,tapering=t\n",
    "11. stalk-root: bulbous=b,club=c,cup=u,equal=e,rhizomorphs=z,rooted=r\n",
    "12. stalk-surface-above-ring: fibrous=f,scaly=y,silky=k,smooth=s\n",
    "13. stalk-surface-below-ring: fibrous=f,scaly=y,silky=k,smooth=s\n",
    "14. stalk-color-above-ring: brown=n,buff=b,cinnamon=c,gray=g,orange=o,pink=p,red=e,white=w,yellow=y\n",
    "15. stalk-color-below-ring: brown=n,buff=b,cinnamon=c,gray=g,orange=o,pink=p,red=e,white=w,yellow=y\n",
    "16. veil-type: partial=p,universal=u\n",
    "17. veil-color: brown=n,orange=o,white=w,yellow=y\n",
    "18. ring-number: none=n,one=o,two=t\n",
    "19. ring-type: cobwebby=c,evanescent=e,flaring=f,large=l,none=n,pendant=p,sheathing=s,zone=z\n",
    "20. spore-print-color: black=k,brown=n,buff=b,chocolate=h,green=r,orange=o,purple=u,white=w,yellow=y\n",
    "21. population: abundant=a,clustered=c,numerous=n,scattered=s,several=v,solitary=y\n",
    "22. habitat: grasses=g,leaves=l,meadows=m,paths=p,urban=u,waste=w,woods=d\n",
    "\n",
    "First, we will read and explore the data using pandas and the `.read_csv` method. Pandas is an open source library providing high-performance, easy-to-use data structures and data analysis tools for the Python programming language."
   ]
  },
  {
   "cell_type": "code",
   "execution_count": 4,
   "metadata": {
    "nbgrader": {
     "grade": false,
     "grade_id": "cell-d79cb4542926ad3f",
     "locked": true,
     "schema_version": 1,
     "solution": false
    }
   },
   "outputs": [],
   "source": [
    "# load dataset\n",
    "data = pd.read_csv('agaricus-lepiota.csv')"
   ]
  },
  {
   "cell_type": "markdown",
   "metadata": {},
   "source": [
    "One of the advantages of the Decision Tree algorithm is that almost no preprocessing is required. However, finding missing values is always required."
   ]
  },
  {
   "cell_type": "code",
   "execution_count": 5,
   "metadata": {},
   "outputs": [],
   "source": [
    "data.dropna(how='any', axis=1, inplace=True)"
   ]
  },
  {
   "cell_type": "markdown",
   "metadata": {},
   "source": [
    "We will split the dataset to `Training` and `Testing` datasets."
   ]
  },
  {
   "cell_type": "code",
   "execution_count": 6,
   "metadata": {},
   "outputs": [
    {
     "name": "stdout",
     "output_type": "stream",
     "text": [
      "Training dataset shape:  (6093, 22)\n",
      "Testing dataset shape:  (2031, 22)\n"
     ]
    }
   ],
   "source": [
    "from sklearn.model_selection import train_test_split\n",
    "# Making sure the last column will hold the labels\n",
    "X, y = data.drop('class', axis=1), data['class']\n",
    "X = np.column_stack([X,y])\n",
    "# split dataset using random_state to get the same split each time\n",
    "X_train, X_test = train_test_split(X, random_state=99)\n",
    "\n",
    "print(\"Training dataset shape: \", X_train.shape)\n",
    "print(\"Testing dataset shape: \", X_test.shape)"
   ]
  },
  {
   "cell_type": "code",
   "execution_count": 7,
   "metadata": {},
   "outputs": [
    {
     "data": {
      "text/plain": [
       "(8124,)"
      ]
     },
     "execution_count": 7,
     "metadata": {},
     "output_type": "execute_result"
    }
   ],
   "source": [
    "y.shape"
   ]
  },
  {
   "attachments": {},
   "cell_type": "markdown",
   "metadata": {
    "nbgrader": {
     "grade": false,
     "grade_id": "cell-fd7b0191f3f1e897",
     "locked": true,
     "schema_version": 1,
     "solution": false
    }
   },
   "source": [
    "## Impurity Measures\n",
    "\n",
    "Impurity is a measure of how often a randomly chosen element from the set would be incorrectly labeled if it was randomly labeled according to the distribution of labels in the subset. Now we will implement the functions `calc_gini` and `calc_entropy`."
   ]
  },
  {
   "cell_type": "code",
   "execution_count": 8,
   "metadata": {},
   "outputs": [],
   "source": [
    "def data_to_dict(data):\n",
    "    \"\"\"\n",
    "    Insert the data into dictionary where key = attribute, value = amount\n",
    "    \n",
    "    Input:\n",
    "    - data: any dataset columns\n",
    "    \n",
    "    Returns the dictionary and number of instances\n",
    "    \"\"\"\n",
    "    class_attributes = data[:,-1]\n",
    "    count_dict = dict((x,list(class_attributes).count(x)) for x in set(class_attributes))\n",
    "    num_of_instances = len(class_attributes)\n",
    "    return count_dict, num_of_instances"
   ]
  },
  {
   "cell_type": "code",
   "execution_count": 9,
   "metadata": {},
   "outputs": [],
   "source": [
    "def calc_gini(data):\n",
    "    \"\"\"\n",
    "    Calculate gini impurity measure of a dataset.\n",
    " \n",
    "    Input:\n",
    "    - data: any dataset where the last column holds the labels.\n",
    " \n",
    "    Returns the gini impurity.    \n",
    "    \"\"\"\n",
    "    gini = 0.0\n",
    "    \n",
    "    count_dict, num_of_instances = data_to_dict(data)\n",
    "    sum = 0\n",
    "    for i in count_dict:\n",
    "        sum = sum + ((count_dict[i] / num_of_instances) ** 2)\n",
    "    gini = 1 - sum\n",
    "\n",
    "    return gini"
   ]
  },
  {
   "cell_type": "code",
   "execution_count": 10,
   "metadata": {},
   "outputs": [],
   "source": [
    "def calc_entropy(data):\n",
    "    \"\"\"\n",
    "    Calculate the entropy of a dataset.\n",
    "\n",
    "    Input:\n",
    "    - data: any dataset where the last column holds the labels.\n",
    "\n",
    "    Returns the entropy of the dataset.    \n",
    "    \"\"\"\n",
    "    entropy = 0.0\n",
    "\n",
    "    count_dict, num_of_instances = data_to_dict(data)\n",
    "    #print(count_dict)\n",
    "    for i in count_dict:\n",
    "        p_of_i = count_dict[i] / num_of_instances\n",
    "        entropy = entropy - (p_of_i * np.log2(p_of_i))\n",
    "\n",
    "    return entropy"
   ]
  },
  {
   "cell_type": "code",
   "execution_count": 11,
   "metadata": {
    "scrolled": true
   },
   "outputs": [
    {
     "data": {
      "text/plain": [
       "(0.4995636322379775, 0.9993703627906085)"
      ]
     },
     "execution_count": 11,
     "metadata": {},
     "output_type": "execute_result"
    }
   ],
   "source": [
    "##### Test the results #####\n",
    "calc_gini(X), calc_entropy(X)"
   ]
  },
  {
   "attachments": {},
   "cell_type": "markdown",
   "metadata": {},
   "source": [
    "## Goodness of Split\n",
    "\n",
    "Given a feature the Goodnees of Split measures the reduction in the impurity if we split the data according to the feature.\n",
    "$$\n",
    "\\Delta\\varphi(S, A) = \\varphi(S) - \\sum_{v\\in Values(A)} \\frac{|S_v|}{|S|}\\varphi(S_v)\n",
    "$$\n",
    "\n",
    "In our implementation the goodness_of_split function will return either the Goodness of Split or the Gain Ratio as learned in class. You'll control the return value with the `gain_ratio` parameter. If this parameter will set to False (the default value) it will return the regular Goodness of Split. If it will set to True it will return the Gain Ratio.\n",
    "$$\n",
    "GainRatio(S,A)=\\frac{InformationGain(S,A)}{SplitInformation(S,A)}\n",
    "$$\n",
    "Where:\n",
    "$$\n",
    "InformationGain(S,A)=Goodness\\ of\\ Split\\ calculated\\ with\\ Entropy\\ as\\ the\\ Impurity\\ function \\\\\n",
    "SplitInformation(S,A)=- \\sum_{a\\in A} \\frac{|S_a|}{|S|}\\log\\frac{|S_a|}{|S|}\n",
    "$$\n",
    "NOTE: you can add more parameters to the function and you can also add more returning variables (The given parameters and the given returning variable should not be touch)."
   ]
  },
  {
   "cell_type": "code",
   "execution_count": 12,
   "metadata": {},
   "outputs": [],
   "source": [
    "def goodness_of_split(data, feature, impurity_func, gain_ratio=False):\n",
    "    \"\"\"\n",
    "    Calculate the goodness of split of a dataset given a feature and impurity function.\n",
    "\n",
    "    Input:\n",
    "    - data: any dataset where the last column holds the labels.\n",
    "    - feature: the feature index.\n",
    "    - impurity func: a function that calculates the impurity.\n",
    "    - gain_ratio: goodness of split or gain ratio flag.\n",
    "\n",
    "    Returns the goodness of split (or the Gain Ration).  \n",
    "    \"\"\"\n",
    "    \n",
    "    sum = 0\n",
    "    split = 0\n",
    "    feature_col = data[:,feature]\n",
    "    count_dict = dict(zip(*np.unique(feature_col, return_counts=True)))\n",
    "    \n",
    "    for attribute, num_of_occurrence in count_dict.items():\n",
    "        partial_data = data[data[:, feature] == attribute]\n",
    "        p = num_of_occurrence / len(feature_col)\n",
    "        \n",
    "        if gain_ratio == False:\n",
    "            attribute_impurity = impurity_func(partial_data)\n",
    "            sum = sum + p * attribute_impurity\n",
    "            split = 1\n",
    "            \n",
    "        else:\n",
    "            attribute_impurity = calc_entropy(partial_data)\n",
    "            goodness = calc_entropy(data)\n",
    "            sum = sum + p * attribute_impurity\n",
    "            split = split - p * np.log2(p)\n",
    "            \n",
    "    goodness = (impurity_func(data) - sum) / split\n",
    "\n",
    "    return goodness    "
   ]
  },
  {
   "cell_type": "code",
   "execution_count": 13,
   "metadata": {},
   "outputs": [
    {
     "name": "stdout",
     "output_type": "stream",
     "text": [
      "Gini:\n",
      "The value for feature number 0 is 0.017909483669059645\n",
      "The value for feature number 1 is 0.011507415704300583\n",
      "The value for feature number 2 is 0.01592390784926656\n",
      "The value for feature number 3 is 0.07558385373221616\n",
      "The value for feature number 4 is 0.3021007675319315\n",
      "The value for feature number 5 is 0.005096002067692007\n",
      "The value for feature number 6 is 0.03892915493429838\n",
      "The value for feature number 7 is 0.09824806820811527\n",
      "The value for feature number 8 is 0.14216289154518535\n",
      "The value for feature number 9 is 0.00313712883389361\n",
      "The value for feature number 10 is 0.10081895058000273\n",
      "The value for feature number 11 is 0.1018187601904299\n",
      "The value for feature number 12 is 0.0833518476460482\n",
      "The value for feature number 13 is 0.08257658787259409\n",
      "The value for feature number 14 is 0.0\n",
      "The value for feature number 15 is 0.007711278430387047\n",
      "The value for feature number 16 is 0.016871182649675187\n",
      "The value for feature number 17 is 0.1090630392010622\n",
      "The value for feature number 18 is 0.17353151518408733\n",
      "The value for feature number 19 is 0.07698364249776302\n",
      "The value for feature number 20 is 0.06358896157305893\n",
      "The value for feature number 21 is 0.4993774351913738\n",
      "Entropy:\n",
      "The value for feature number 0 is 0.027475652034306575\n",
      "The value for feature number 1 is 0.016973867307348733\n",
      "The value for feature number 2 is 0.023891917928842155\n",
      "The value for feature number 3 is 0.11297611998181378\n",
      "The value for feature number 4 is 0.49794978472973195\n",
      "The value for feature number 5 is 0.008055978176283451\n",
      "The value for feature number 6 is 0.06078477792445025\n",
      "The value for feature number 7 is 0.14980449024507692\n",
      "The value for feature number 8 is 0.2269439131243347\n",
      "The value for feature number 9 is 0.00453439694758162\n",
      "The value for feature number 10 is 0.15521662301967754\n",
      "The value for feature number 11 is 0.1570680003553122\n",
      "The value for feature number 12 is 0.13376542071543118\n",
      "The value for feature number 13 is 0.13128255216072426\n",
      "The value for feature number 14 is 0.0\n",
      "The value for feature number 15 is 0.01314737452471193\n",
      "The value for feature number 16 is 0.026743617978576606\n",
      "The value for feature number 17 is 0.1701209392947305\n",
      "The value for feature number 18 is 0.27153913131456864\n",
      "The value for feature number 19 is 0.12007167589761925\n",
      "The value for feature number 20 is 0.09775991317481714\n",
      "The value for feature number 21 is 0.99910164235515\n"
     ]
    }
   ],
   "source": [
    "print(\"Gini:\")\n",
    "for i in range(22):\n",
    "    val = goodness_of_split(X_train, i, calc_gini, False)\n",
    "    print(\"The value for feature number\", i, \"is\", val)\n",
    "print(\"Entropy:\")\n",
    "for i in range(22):\n",
    "    val = goodness_of_split(X_train, i, calc_entropy, False)\n",
    "    print(\"The value for feature number\", i, \"is\", val)"
   ]
  },
  {
   "attachments": {},
   "cell_type": "markdown",
   "metadata": {},
   "source": [
    "## Building a Decision Tree\n",
    "\n",
    "Use a Python class to construct the decision tree. The class supports the following functionality:\n",
    "\n",
    "1. Initiating a node for a decision tree. Every node will hold the feature and value used for the split and its children.\n",
    "2. Our code supports both Gini and Entropy as impurity measures. \n",
    "3. The provided data includes categorical data. In this notebook, when splitting a node create the number of children needed according to the attribute unique values.\n",
    "\n",
    "We will show now the class `DecisionNode` and the function `build_tree`."
   ]
  },
  {
   "cell_type": "code",
   "execution_count": 14,
   "metadata": {},
   "outputs": [],
   "source": [
    "class DecisionNode:\n",
    "    \"\"\"\n",
    "    This class will hold everything you require to construct a decision tree.\n",
    "    The structure of this class is up to you. However, you need to support basic \n",
    "    functionality as described above. It is highly recommended that you \n",
    "    first read and understand the entire exercise before diving into this class.\n",
    "    \"\"\"\n",
    "    def __init__(self, feature, value):\n",
    "        self.feature = feature # column index of criteria being tested\n",
    "        self.value = value\n",
    "        self.children = []\n",
    "        self.pred = None\n",
    "        self.val_count = None\n",
    "        \n",
    "    def add_child(self, node):\n",
    "        self.children.append(node)"
   ]
  },
  {
   "cell_type": "code",
   "execution_count": 15,
   "metadata": {},
   "outputs": [],
   "source": [
    "def build_tree(data, impurity, gain_ratio=False, min_samples_split=1, max_depth=1000):\n",
    "    \"\"\"\n",
    "    Build a tree using the given impurity measure and training dataset. \n",
    "    You are required to fully grow the tree until all leaves are pure. \n",
    "\n",
    "    Input:\n",
    "    - data: the training dataset.\n",
    "    - impurity: the chosen impurity measure. Notice that you can send a function\n",
    "                as an argument in python.\n",
    "    - gain_ratio: goodness of split or gain ratio flag\n",
    "    - min_samples_split: the minimum number of samples required to split an internal node\n",
    "    - max_depth: the allowable depth of the tree\n",
    "\n",
    "    Output: the root node of the tree.\n",
    "    \"\"\"\n",
    "    root = DecisionNode(None,None)\n",
    "\n",
    "    build_tree_helper(data, impurity, root, gain_ratio, min_samples_split, max_depth)\n",
    "\n",
    "    return root"
   ]
  },
  {
   "cell_type": "code",
   "execution_count": 16,
   "metadata": {},
   "outputs": [],
   "source": [
    "def build_tree_helper(data, impurity, node, gain_ratio=False, min_samples_split=1, max_depth=1000):\n",
    "    \n",
    "    class_attributes = data.T[-1]\n",
    "    count_dict = dict((x,list(class_attributes).count(x)) for x in set(class_attributes))\n",
    "    node.val_count = count_dict\n",
    "    node.pred = max(node.val_count, key=node.val_count.get)\n",
    "    \n",
    "    if ((data.shape[0] <= min_samples_split) or (max_depth == 0) or (impurity(data) == 0)):\n",
    "        return None\n",
    "    \n",
    "    best_feature = [-1,-1]\n",
    "    goodness = 0\n",
    "    for i in range(data.shape[1] - 1):             \n",
    "        goodness = goodness_of_split(data, i, impurity, gain_ratio)\n",
    "        if goodness >= best_feature[1]:\n",
    "            best_feature[0] = i\n",
    "            best_feature[1] = goodness\n",
    "    \n",
    "    if best_feature[1] <= 0:\n",
    "        return None\n",
    "    \n",
    "    \n",
    "    class_attributes = data[:,best_feature[0]]\n",
    "    count_dict = dict((x,list(class_attributes).count(x)) for x in set(class_attributes))\n",
    "    node.feature = best_feature[0]\n",
    "\n",
    "    for attribute in count_dict.keys():\n",
    "        child = DecisionNode(None,attribute)\n",
    "        node.add_child(child)\n",
    "    \n",
    "    for child in node.children:\n",
    "        partial_data = data[data[:, best_feature[0]] == child.value, :]\n",
    "        build_tree_helper(partial_data, impurity, child, gain_ratio, min_samples_split, max_depth - 1)\n",
    "    return None\n",
    "    "
   ]
  },
  {
   "cell_type": "code",
   "execution_count": 17,
   "metadata": {},
   "outputs": [],
   "source": [
    "# python supports passing a function as an argument to another function.\n",
    "tree_gini = build_tree(data=X_train, impurity=calc_gini) # gini and goodness of split\n",
    "tree_entropy = build_tree(data=X_train, impurity=calc_entropy) # entropy and goodness of split\n",
    "tree_entropy_gain_ratio = build_tree(data=X_train, impurity=calc_entropy, gain_ratio=True) # entropy and gain ratio"
   ]
  },
  {
   "cell_type": "code",
   "execution_count": 18,
   "metadata": {},
   "outputs": [
    {
     "name": "stdout",
     "output_type": "stream",
     "text": [
      "9\n",
      "4\n",
      "4\n",
      "4\n"
     ]
    }
   ],
   "source": [
    "print(len(tree_gini.children))\n",
    "print(tree_gini.feature)\n",
    "print(tree_entropy.feature)\n",
    "print(tree_entropy_gain_ratio.feature)"
   ]
  },
  {
   "attachments": {},
   "cell_type": "markdown",
   "metadata": {},
   "source": [
    "## Tree evaluation\n",
    "\n",
    "For tree evaluation, we will use the functions `predict` and `calc_accuracy`. "
   ]
  },
  {
   "cell_type": "code",
   "execution_count": 19,
   "metadata": {},
   "outputs": [],
   "source": [
    "def predict(node, instance):\n",
    "    \"\"\"\n",
    "    Predict a given instance using the decision tree\n",
    " \n",
    "    Input:\n",
    "    - root: the root of the decision tree.\n",
    "    - instance: an row vector from the dataset. Note that the last element \n",
    "                of this vector is the label of the instance.\n",
    " \n",
    "    Output: the prediction of the instance.\n",
    "    \"\"\"\n",
    "    pred = None\n",
    "    \n",
    "    if(node.children != []):\n",
    "        for child in node.children:\n",
    "            if (child.value == instance[node.feature]):\n",
    "                return predict(child, instance) \n",
    "    \n",
    "    return node.pred"
   ]
  },
  {
   "cell_type": "code",
   "execution_count": 20,
   "metadata": {},
   "outputs": [],
   "source": [
    "def calc_accuracy(node, dataset):\n",
    "    \"\"\"\n",
    "    Predict a given dataset using the decision tree\n",
    " \n",
    "    Input:\n",
    "    - node: a node in the decision tree.\n",
    "    - dataset: the dataset on which the accuracy is evaluated\n",
    " \n",
    "    Output: the accuracy of the decision tree on the given dataset (%).\n",
    "    \"\"\"\n",
    "    accuracy = 0\n",
    "    \n",
    "    accurate_predictions = 0\n",
    "    for instance in dataset:\n",
    "        labels = instance[-1]\n",
    "        pred = predict(node,instance)\n",
    "        if pred == labels:\n",
    "            accurate_predictions = accurate_predictions + 1\n",
    "    accuracy = (accurate_predictions / len(dataset)) * 100\n",
    "    \n",
    "    return accuracy "
   ]
  },
  {
   "attachments": {},
   "cell_type": "markdown",
   "metadata": {},
   "source": [
    "After building the three trees using the training set, you should calculate the accuracy on the test set. For each tree we will print the training and test accuracy. Now, we select the tree that gave us the best test accuracy. For the rest of the notebook, we will using that tree (when we build another tree we will use the same impurity function and same gain_ratio flag). "
   ]
  },
  {
   "cell_type": "code",
   "execution_count": 21,
   "metadata": {},
   "outputs": [
    {
     "name": "stdout",
     "output_type": "stream",
     "text": [
      "e\n",
      "e\n",
      "e\n",
      "None\n"
     ]
    }
   ],
   "source": [
    "print(tree_gini.pred)\n",
    "print(tree_entropy.pred)\n",
    "print(tree_entropy_gain_ratio.pred)\n",
    "print(tree_gini.value)"
   ]
  },
  {
   "cell_type": "code",
   "execution_count": 22,
   "metadata": {},
   "outputs": [
    {
     "name": "stdout",
     "output_type": "stream",
     "text": [
      "calc_accuracy on tree_gini and X_train: 99.21221073362875\n",
      "calc_accuracy on tree_entropy and X_train: 99.37633349745609\n",
      "calc_accuracy on tree_entropy_gain_ratio and X_train: 99.67175447234531\n",
      "calc_accuracy on tree_gini and X_test: 78.38503200393895\n",
      "calc_accuracy on tree_entropy and X_test: 78.04037419990154\n",
      "calc_accuracy on tree_entropy_gain_ratio and X_test: 78.68045297882816\n",
      "\n",
      "By this data, the best tree is tree_entropy_gain_ratio with the values:\n",
      "training accuracy: 99.67175447234531 \ttesting accuracy of 78.68045297882816\n"
     ]
    }
   ],
   "source": [
    "print(\"calc_accuracy on tree_gini and X_train:\", calc_accuracy(tree_gini,X_train))\n",
    "print(\"calc_accuracy on tree_entropy and X_train:\", calc_accuracy(tree_entropy,X_train))\n",
    "print(\"calc_accuracy on tree_entropy_gain_ratio and X_train:\", calc_accuracy(tree_entropy_gain_ratio,X_train))\n",
    "print(\"calc_accuracy on tree_gini and X_test:\", calc_accuracy(tree_gini,X_test))\n",
    "print(\"calc_accuracy on tree_entropy and X_test:\", calc_accuracy(tree_entropy,X_test))\n",
    "print(\"calc_accuracy on tree_entropy_gain_ratio and X_test:\", calc_accuracy(tree_entropy_gain_ratio,X_test))\n",
    "\n",
    "print(\"\\nBy this data, the best tree is tree_entropy_gain_ratio with the values:\\ntraining accuracy:\", calc_accuracy(tree_entropy_gain_ratio,X_train),\"\\ttesting accuracy of\", calc_accuracy(tree_entropy_gain_ratio,X_test))"
   ]
  },
  {
   "attachments": {},
   "cell_type": "markdown",
   "metadata": {},
   "source": [
    "## Depth pruning\n",
    "\n",
    "\n",
    "Consider the following max_depth values: [1, 2, 3, 4, 5, 6, 7, 8]. For each value, we construct a tree and prune it according to the max_depth value = don't let the tree to grow beyond this depth. Next, we calculate the training and testing accuracy.<br>\n",
    "On a single plot, we will show the training and testing accuracy as a function of the max_depth. The best result will be marked on the graph with red circle."
   ]
  },
  {
   "cell_type": "code",
   "execution_count": 23,
   "metadata": {},
   "outputs": [
    {
     "data": {
      "image/png": "[encoded data removed]",
      "text/plain": [
       "<Figure size 720x576 with 1 Axes>"
      ]
     },
     "metadata": {
      "needs_background": "light"
     },
     "output_type": "display_data"
    }
   ],
   "source": [
    "max_depth_values = [1, 2, 3, 4, 5, 6, 7, 8]\n",
    "max_depth_training_trees = []\n",
    "max_depth_testing_trees = []\n",
    "max_trees = []\n",
    "\n",
    "for depth in max_depth_values:\n",
    "    tree = build_tree(X_train, calc_entropy, True, 1, depth)\n",
    "    max_trees.append(tree)\n",
    "    max_depth_training_trees.append(calc_accuracy(tree,X_train))\n",
    "    max_depth_testing_trees.append(calc_accuracy(tree,X_test))\n",
    "\n",
    "testing_tree_best_accuracy =  max(max_depth_testing_trees)\n",
    "best_depth_index = max_depth_testing_trees.index(testing_tree_best_accuracy)\n",
    "\n",
    "\n",
    "plt.title('Training and testing accuracy as a function of the max_depth')\n",
    "plt.xlabel('Max depth')\n",
    "plt.ylabel('Accuracy')\n",
    "plt.plot(max_depth_values, max_depth_training_trees, label = \"Training\")\n",
    "plt.plot(max_depth_values, max_depth_testing_trees, label = \"Testing\")\n",
    "plt.scatter(max_depth_values[best_depth_index], max_depth_testing_trees[best_depth_index], s=150, color='None', edgecolors='red',label = \"Best result\")\n",
    "plt.legend()\n",
    "plt.show()"
   ]
  },
  {
   "attachments": {},
   "cell_type": "markdown",
   "metadata": {},
   "source": [
    "## Min Samples Split\n",
    "\n",
    "Consider the following min_samples_split values: [1, 5, 10, 20, 50]. For each value, we will construct a tree and prune it according to the min_samples_split value = don't split a node if the number of sample in it is less or equal to the min_samples_split value. Next, we calculate the training and testing accuracy.<br>\n",
    "Now we will show, on a single plot, the training and testing accuracy as a function of the min_samples_split. The best result will be marked on the graph with red circle. (the x-axis ticks represent the values of min_samples_split)"
   ]
  },
  {
   "cell_type": "code",
   "execution_count": 24,
   "metadata": {},
   "outputs": [
    {
     "data": {
      "image/png": "[encoded data removed]",
      "text/plain": [
       "<Figure size 720x576 with 1 Axes>"
      ]
     },
     "metadata": {
      "needs_background": "light"
     },
     "output_type": "display_data"
    }
   ],
   "source": [
    "min_samples_split_values = [1, 5, 10, 20, 50]\n",
    "min_sample_split_training_trees = []\n",
    "min_sample_split_testing_trees = []\n",
    "min_trees = []\n",
    "\n",
    "for split in min_samples_split_values:\n",
    "    tree = build_tree(X_train, calc_entropy, True, split, 1000)\n",
    "    min_trees.append(tree)\n",
    "    min_sample_split_training_trees.append(calc_accuracy(tree,X_train))\n",
    "    min_sample_split_testing_trees.append(calc_accuracy(tree,X_test))\n",
    "\n",
    "testing_tree_best_accuracy =  max(min_sample_split_testing_trees)\n",
    "best_split_index = min_sample_split_testing_trees.index(testing_tree_best_accuracy)\n",
    "\n",
    "\n",
    "plt.title('Training and testing accuracy as a function of the max_depth')\n",
    "plt.xlabel('Min sample split')\n",
    "plt.ylabel('Accuracy')\n",
    "plt.plot(min_samples_split_values, min_sample_split_training_trees, label = \"Training\")\n",
    "plt.plot(min_samples_split_values, min_sample_split_testing_trees, label = \"Testing\")\n",
    "plt.scatter(min_samples_split_values[best_split_index], min_sample_split_testing_trees[best_split_index], s=150, color='None', edgecolors='red',label = \"Best result\")\n",
    "plt.legend()\n",
    "plt.show()"
   ]
  },
  {
   "cell_type": "markdown",
   "metadata": {},
   "source": [
    "Build the best 2 trees:\n",
    "1. tree_max_depth - the best tree according to max_depth pruning\n",
    "1. tree_min_samples_split - the best tree according to min_samples_split pruning"
   ]
  },
  {
   "cell_type": "code",
   "execution_count": 25,
   "metadata": {},
   "outputs": [],
   "source": [
    "best_depth = max_depth_values[best_depth_index]\n",
    "best_split = min_samples_split_values[best_split_index]\n",
    "\n",
    "tree_max_depth = build_tree(X_train, calc_entropy, True, 1, best_depth)\n",
    "tree_min_samples_split = build_tree(X_train, calc_entropy, True, best_split, 1000)"
   ]
  },
  {
   "attachments": {},
   "cell_type": "markdown",
   "metadata": {},
   "source": [
    "## Number of Nodes\n",
    "\n",
    "The function counts_nodes will count the number of nodes in a tree, and we use it for each tree from the two trees above"
   ]
  },
  {
   "cell_type": "code",
   "execution_count": 26,
   "metadata": {},
   "outputs": [],
   "source": [
    "def count_nodes(node):\n",
    "    \"\"\"\n",
    "    Count the number of node in a given tree\n",
    " \n",
    "    Input:\n",
    "    - node: a node in the decision tree.\n",
    " \n",
    "    Output: the number of node in the tree.\n",
    "    \"\"\"\n",
    "\n",
    "    return count_nodes_helper(node) + 1 # adding the Root\n",
    "\n",
    "    "
   ]
  },
  {
   "cell_type": "code",
   "execution_count": 27,
   "metadata": {},
   "outputs": [],
   "source": [
    "def count_nodes_helper(node):\n",
    "    if node.children == []:\n",
    "        return 0\n",
    "    else:\n",
    "        count = len(node.children)\n",
    "        for child in node.children:\n",
    "            count = count + count_nodes_helper(child)\n",
    "    return count"
   ]
  },
  {
   "cell_type": "code",
   "execution_count": 28,
   "metadata": {},
   "outputs": [
    {
     "name": "stdout",
     "output_type": "stream",
     "text": [
      "207\n",
      "349\n"
     ]
    }
   ],
   "source": [
    "print(count_nodes(tree_max_depth))\n",
    "print(count_nodes(tree_min_samples_split))"
   ]
  },
  {
   "attachments": {},
   "cell_type": "markdown",
   "metadata": {},
   "source": [
    "## Print the tree\n",
    "\n",
    "The function `print_tree`. You can use the following example as a reference:\n",
    "```\n",
    "[ROOT, feature=X0],\n",
    "  [X0=a, feature=X2]\n",
    "    [X2=c, leaf]: [{1.0: 10}]\n",
    "    [X2=d, leaf]: [{0.0: 10}]\n",
    "  [X0=y, feature=X5], \n",
    "    [X5=a, leaf]: [{1.0: 5}]\n",
    "    [X5=s, leaf]: [{0.0: 10}]\n",
    "  [X0=e, leaf]: [{0.0: 25, 1.0: 50}]\n",
    "```\n",
    "In each brackets:\n",
    "* The first argument is the parent feature with the value that led to current node\n",
    "* The second argument is the selected feature of the current node\n",
    "* If the current node is a leaf, you need to print also the labels and their counts"
   ]
  },
  {
   "cell_type": "code",
   "execution_count": 41,
   "metadata": {},
   "outputs": [],
   "source": [
    "def print_tree(node, depth=0, parent_feature='ROOT', feature_val='ROOT'):\n",
    "    '''\n",
    "    prints the tree according to the example above\n",
    "\n",
    "    Input:\n",
    "    - node: a node in the decision tree\n",
    "\n",
    "    This function has no return value\n",
    "    '''\n",
    "    \n",
    "    if (node.value == None):\n",
    "        print((\" \" * depth) + \"[\" + str(parent_feature) + \", feature=X\" + str(node.feature) + \"]\\n\")\n",
    "        \n",
    "    if (len(node.children) == 0):\n",
    "        print((\" \" * depth) + \"[X\" + str(parent_feature) + \"=\" + str(node.value) + \", leaf]: [\" + str(node.val_count) + \"]\\n\")\n",
    "        return\n",
    "    elif (node.value != None):\n",
    "        print((\" \" * depth) + \"[\" + str(parent_feature) + \"=\" + str(node.value) + \", feature=X\" + str(node.feature) + \"]\\n\")\n",
    "    \n",
    "    for child in node.children:\n",
    "        print_tree(child, depth + 1, node.feature, child.value)"
   ]
  },
  {
   "cell_type": "markdown",
   "metadata": {},
   "source": [
    "print the tree with the best test accuracy and with less than 50 nodes (from the two pruning methods)"
   ]
  },
  {
   "cell_type": "code",
   "execution_count": 42,
   "metadata": {},
   "outputs": [
    {
     "name": "stdout",
     "output_type": "stream",
     "text": [
      "[ROOT, feature=X4]\n",
      "\n",
      " [X4=p, leaf]: [{'e': 8, 'p': 175}]\n",
      "\n",
      " [X4=m, leaf]: [{'e': 2, 'p': 25}]\n",
      "\n",
      " [X4=n, leaf]: [{'e': 2332, 'p': 344}]\n",
      "\n",
      " [X4=a, leaf]: [{'e': 273, 'p': 31}]\n",
      "\n",
      " [X4=c, leaf]: [{'e': 10, 'p': 137}]\n",
      "\n",
      " [X4=l, leaf]: [{'e': 272, 'p': 27}]\n",
      "\n",
      " [X4=s, leaf]: [{'e': 38, 'p': 380}]\n",
      "\n",
      " [X4=f, leaf]: [{'e': 170, 'p': 1438}]\n",
      "\n",
      " [X4=y, leaf]: [{'e': 49, 'p': 382}]\n",
      "\n"
     ]
    }
   ],
   "source": [
    "depth_index = -1\n",
    "best_depth_accuracy = 0\n",
    "split_index = -1\n",
    "best_split_accuracy = 0\n",
    "depth_flag = False\n",
    "split_flag = False\n",
    "\n",
    "for i,value in enumerate(max_trees):\n",
    "    if max_depth_testing_trees[i] > best_depth_accuracy:\n",
    "        if count_nodes(value) <= 50:\n",
    "            best_depth_accuracy = max_depth_testing_trees[i]\n",
    "            depth_index = i\n",
    "            depth_flag = True\n",
    "            \n",
    "for i,value in enumerate(min_trees):\n",
    "    if min_sample_split_testing_trees[i] > best_split_accuracy:\n",
    "        if count_nodes(value) <= 50:\n",
    "            best_split_accuracy = min_sample_split_testing_trees[i]\n",
    "            split_index = i\n",
    "            flag2 = True\n",
    "            \n",
    "if depth_flag and split_flag:\n",
    "    if max_depth_testing_trees[depth_index] > min_sample_split_testing_trees[split_index]:\n",
    "        print_tree(max_trees[depth_index])\n",
    "    else:\n",
    "        print_tree(min_trees[split_index])\n",
    "elif depth_flag:\n",
    "    print_tree(max_trees[depth_index])\n",
    "elif split_flag:\n",
    "    print_tree(min_trees[split_index])\n",
    "else:\n",
    "    print(\"No tree with less than 50 nodes\")"
   ]
  }
 ],
 "metadata": {
  "celltoolbar": "Create Assignment",
  "kernelspec": {
   "display_name": "Python 3 (ipykernel)",
   "language": "python",
   "name": "python3"
  },
  "language_info": {
   "codemirror_mode": {
    "name": "ipython",
    "version": 3
   },
   "file_extension": ".py",
   "mimetype": "text/x-python",
   "name": "python",
   "nbconvert_exporter": "python",
   "pygments_lexer": "ipython3",
   "version": "3.10.2"
  }
 },
 "nbformat": 4,
 "nbformat_minor": 4
}
